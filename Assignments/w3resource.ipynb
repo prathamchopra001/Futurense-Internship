{
 "cells": [
  {
   "cell_type": "code",
   "execution_count": 3,
   "metadata": {},
   "outputs": [
    {
     "name": "stdout",
     "output_type": "stream",
     "text": [
      "V\n"
     ]
    }
   ],
   "source": [
    "# Write a Python class to convert an integer to a Roman numeral.\n",
    "class RomanConverter:\n",
    "    def __init__(self):\n",
    "        self.numeral_map = {\n",
    "            1000: 'M',\n",
    "            900: 'CM',\n",
    "            500: 'D',\n",
    "            400: 'CD',\n",
    "            100: 'C',\n",
    "            90: 'XC',\n",
    "            50: 'L',\n",
    "            40: 'XL',\n",
    "            10: 'X',\n",
    "            9: 'IX',\n",
    "            5: 'V',\n",
    "            4: 'IV',\n",
    "            1: 'I'\n",
    "        }\n",
    "        \n",
    "    def int_to_roman(self, num):\n",
    "        roman_numeral = ''\n",
    "        for value, symbol in self.numeral_map.items():\n",
    "            while num >= value:\n",
    "                roman_numeral += symbol\n",
    "                num -= value\n",
    "        return roman_numeral\n",
    "\n",
    "num = int(input(\"Enter the number: \"))\n",
    "obj = RomanConverter()\n",
    "print(obj.int_to_roman(num))"
   ]
  },
  {
   "cell_type": "code",
   "execution_count": 4,
   "metadata": {},
   "outputs": [
    {
     "name": "stdout",
     "output_type": "stream",
     "text": [
      "1000\n"
     ]
    }
   ],
   "source": [
    "# Write a Python class to convert a Roman numeral to an integer.\n",
    "class RomanConverter:\n",
    "    def __init__(self):\n",
    "        self.numeral_map = {\n",
    "            'M': 1000,\n",
    "            'CM': 900,\n",
    "            'D': 500,\n",
    "            'CD': 400,\n",
    "            'C': 100,\n",
    "            'XC': 90,\n",
    "            'L': 50,\n",
    "            'XL': 40,\n",
    "            'X': 10,\n",
    "            'IX': 9,\n",
    "            'V': 5,\n",
    "            'IV': 4,\n",
    "            'I': 1\n",
    "        }\n",
    "        \n",
    "    def roman_to_int(self, roman_numeral):\n",
    "        result = 0\n",
    "        i = 0\n",
    "        while i < len(roman_numeral):\n",
    "            if i < len(roman_numeral) - 1 and roman_numeral[i:i+2] in self.numeral_map:\n",
    "                result += self.numeral_map[roman_numeral[i:i+2]]\n",
    "                i += 2\n",
    "            else:\n",
    "                result += self.numeral_map[roman_numeral[i]]\n",
    "                i += 1\n",
    "        return result\n",
    "\n",
    "# Example usage\n",
    "roman_numeral = input(\"Enter the Roman numeral: \")\n",
    "obj = RomanConverter()\n",
    "print(obj.roman_to_int(roman_numeral))\n",
    "    "
   ]
  },
  {
   "cell_type": "code",
   "execution_count": 5,
   "metadata": {},
   "outputs": [
    {
     "name": "stdout",
     "output_type": "stream",
     "text": [
      "True\n",
      "True\n",
      "False\n",
      "False\n",
      "False\n"
     ]
    }
   ],
   "source": [
    "# Write a Python class to check the validity of a string of parentheses, '(', ')', '{', '}', '[' and ']. These brackets must be closed in the correct order, for example \"()\" and \"()[]{}\" are valid but \"[)\", \"({[)]\" and \"{{{\" are invalid.\n",
    "class ParenthesesChecker:\n",
    "    def __init__(self):\n",
    "        self.parentheses_map = {\n",
    "            '(': ')',\n",
    "            '[': ']',\n",
    "            '{': '}'\n",
    "        }\n",
    "        \n",
    "    def is_valid(self, string):\n",
    "        stack = []\n",
    "        for char in string:\n",
    "            if char in self.parentheses_map:\n",
    "                stack.append(char)\n",
    "            elif char in self.parentheses_map.values():\n",
    "                if not stack or self.parentheses_map[stack.pop()] != char:\n",
    "                    return False\n",
    "        return not stack\n",
    "\n",
    "parentheses_checker = ParenthesesChecker()\n",
    "print(parentheses_checker.is_valid(\"()\"))  \n",
    "print(parentheses_checker.is_valid(\"()[]{}\"))  \n",
    "print(parentheses_checker.is_valid(\"[)\"))  \n",
    "print(parentheses_checker.is_valid(\"({[)]\"))  \n",
    "print(parentheses_checker.is_valid(\"{{{\"))  "
   ]
  },
  {
   "cell_type": "code",
   "execution_count": 6,
   "metadata": {},
   "outputs": [
    {
     "name": "stdout",
     "output_type": "stream",
     "text": [
      "[[], [1], [2], [1, 2], [3], [1, 3], [2, 3], [1, 2, 3]]\n"
     ]
    }
   ],
   "source": [
    "# Write a Python class to get all possible unique subsets from a set of distinct integers.\n",
    "class Subsets:\n",
    "    def __init__(self):\n",
    "        self.subsets = []\n",
    "        \n",
    "    def get_subsets(self, nums):\n",
    "        self.subsets = [[]]\n",
    "        for num in nums:\n",
    "            self.subsets = self.subsets + [current_subset + [num] for current_subset in self.subsets]\n",
    "        return self.subsets\n",
    "    \n",
    "nums = [1, 2, 3]\n",
    "obj = Subsets()\n",
    "print(obj.get_subsets(nums))"
   ]
  },
  {
   "cell_type": "code",
   "execution_count": 9,
   "metadata": {},
   "outputs": [
    {
     "name": "stdout",
     "output_type": "stream",
     "text": [
      "[(0, 3), (2, 3)]\n"
     ]
    }
   ],
   "source": [
    "# Write a Python class to find a pair of elements (indices of the two numbers) from a given array whose sum equals a specific target number. \n",
    "class PairSum:\n",
    "    def __init__(self):\n",
    "        self.pairs = []\n",
    "        \n",
    "    def get_pairs(self, nums, target):\n",
    "        self.pairs = []\n",
    "        for i in range(len(nums)):\n",
    "            for j in range(i+1, len(nums)):\n",
    "                if nums[i] + nums[j] == target:\n",
    "                    self.pairs.append((i, j))\n",
    "        return self.pairs\n",
    "    \n",
    "nums = [10, 20, 10, 40, 50, 60, 70]\n",
    "target = 50\n",
    "obj = PairSum()\n",
    "print(obj.get_pairs(nums, target))"
   ]
  },
  {
   "cell_type": "code",
   "execution_count": 10,
   "metadata": {},
   "outputs": [
    {
     "name": "stdout",
     "output_type": "stream",
     "text": [
      "[[-10, 2, 8], [-7, -3, 10]]\n"
     ]
    }
   ],
   "source": [
    "# Write a Python class to find the three elements that sum to zero from a set of n real numbers. Input array : [-25, -10, -7, -3, 2, 4, 8, 10] Output : [[-10, 2, 8], [-7, -3, 10]]\n",
    "class Triplets:\n",
    "    def __init__(self):\n",
    "        self.triplets = []\n",
    "        \n",
    "    def get_triplets(self, nums):\n",
    "        self.triplets = []\n",
    "        nums.sort()\n",
    "        for i in range(len(nums)):\n",
    "            if i > 0 and nums[i] == nums[i-1]:\n",
    "                continue\n",
    "            left = i + 1\n",
    "            right = len(nums) - 1\n",
    "            while left < right:\n",
    "                if nums[i] + nums[left] + nums[right] > 0:\n",
    "                    right -= 1\n",
    "                elif nums[i] + nums[left] + nums[right] < 0:\n",
    "                    left += 1\n",
    "                else:\n",
    "                    self.triplets.append([nums[i], nums[left], nums[right]])\n",
    "                    left += 1\n",
    "                    \n",
    "                    while nums[left] == nums[left-1] and left < right:\n",
    "                        left += 1\n",
    "        return self.triplets\n",
    "\n",
    "nums = [-25, -10, -7, -3, 2, 4, 8, 10]\n",
    "obj = Triplets()\n",
    "print(obj.get_triplets(nums))\n"
   ]
  },
  {
   "cell_type": "code",
   "execution_count": 11,
   "metadata": {},
   "outputs": [
    {
     "name": "stdout",
     "output_type": "stream",
     "text": [
      "8\n"
     ]
    }
   ],
   "source": [
    "# Write a Python class to implement pow(x, n).\n",
    "class Power:\n",
    "    def __init__(self):\n",
    "        self.result = 1\n",
    "        \n",
    "    def pow(self, x, n):\n",
    "        self.result = x**n\n",
    "        return self.result\n",
    "\n",
    "x = 2\n",
    "n = 3\n",
    "obj = Power()\n",
    "print(obj.pow(x, n))"
   ]
  },
  {
   "cell_type": "code",
   "execution_count": 12,
   "metadata": {},
   "outputs": [
    {
     "name": "stdout",
     "output_type": "stream",
     "text": [
      ".py hello\n"
     ]
    }
   ],
   "source": [
    "# Write a Python class to reverse a string word by word.\n",
    "class ReverseString:\n",
    "    def __init__(self):\n",
    "        self.result = ''\n",
    "        \n",
    "    def reverse_string(self, string):\n",
    "        self.result = ' '.join(string.split()[::-1])\n",
    "        return self.result\n",
    "\n",
    "string = \"hello .py\"\n",
    "obj = ReverseString()\n",
    "print(obj.reverse_string(string))"
   ]
  },
  {
   "cell_type": "code",
   "execution_count": 13,
   "metadata": {},
   "outputs": [
    {
     "name": "stdout",
     "output_type": "stream",
     "text": [
      "PRATHAM\n"
     ]
    }
   ],
   "source": [
    "# Write a Python class that has two methods: get_String and print_String , get_String accept a string from the user and print_String prints the string in upper case.\n",
    "class String:\n",
    "    def __init__(self):\n",
    "        self.string = ''\n",
    "        \n",
    "    def get_string(self):\n",
    "        self.string = input(\"Enter the string: \")\n",
    "        \n",
    "    def print_string(self):\n",
    "        print(self.string.upper())\n",
    "\n",
    "obj = String()\n",
    "obj.get_string()\n",
    "obj.print_string()"
   ]
  },
  {
   "cell_type": "code",
   "execution_count": 14,
   "metadata": {},
   "outputs": [
    {
     "name": "stdout",
     "output_type": "stream",
     "text": [
      "The area of the rectangle is:  30\n"
     ]
    }
   ],
   "source": [
    "# Write a Python class named Rectangle constructed from length and width and a method that will compute the area of a rectangle.\n",
    "class Rectangle:\n",
    "    def __init__(self):\n",
    "        self.length = 0\n",
    "        self.width = 0\n",
    "        self.area = 0\n",
    "        \n",
    "    def get_rectangle(self):\n",
    "        self.length = int(input(\"Enter the length of the rectangle: \"))\n",
    "        self.width = int(input(\"Enter the width of the rectangle: \"))\n",
    "        \n",
    "    def compute_area(self):\n",
    "        self.area = self.length * self.width\n",
    "        print(\"The area of the rectangle is: \", self.area)\n",
    "        \n",
    "obj = Rectangle()\n",
    "obj.get_rectangle()\n",
    "obj.compute_area()"
   ]
  },
  {
   "cell_type": "code",
   "execution_count": 15,
   "metadata": {},
   "outputs": [
    {
     "name": "stdout",
     "output_type": "stream",
     "text": [
      "The area of the circle is:  78.5\n",
      "The perimeter of the circle is:  31.400000000000002\n"
     ]
    }
   ],
   "source": [
    "# Write a Python class named Circle constructed from a radius and two methods that will compute the area and the perimeter of a circle.\n",
    "class Circle:\n",
    "    def __init__(self):\n",
    "        self.radius = 0\n",
    "        self.area = 0\n",
    "        self.perimeter = 0\n",
    "        \n",
    "    def get_circle(self):\n",
    "        self.radius = int(input(\"Enter the radius of the circle: \"))\n",
    "        \n",
    "    def compute_area(self):\n",
    "        self.area = 3.14 * (self.radius**2)\n",
    "        print(\"The area of the circle is: \", self.area)\n",
    "        \n",
    "    def compute_perimeter(self):\n",
    "        self.perimeter = 2 * 3.14 * self.radius\n",
    "        print(\"The perimeter of the circle is: \", self.perimeter)\n",
    "\n",
    "obj = Circle()\n",
    "obj.get_circle()\n",
    "obj.compute_area()\n",
    "obj.compute_perimeter()\n"
   ]
  },
  {
   "cell_type": "code",
   "execution_count": 16,
   "metadata": {},
   "outputs": [
    {
     "name": "stdout",
     "output_type": "stream",
     "text": [
      "ClassName\n"
     ]
    }
   ],
   "source": [
    "# Write a Python program to get the class name of an instance in Python.\n",
    "class ClassName:\n",
    "    pass\n",
    "\n",
    "obj = ClassName()\n",
    "print(obj.__class__.__name__)\n"
   ]
  },
  {
   "cell_type": "code",
   "execution_count": null,
   "metadata": {},
   "outputs": [],
   "source": []
  }
 ],
 "metadata": {
  "kernelspec": {
   "display_name": "Python 3",
   "language": "python",
   "name": "python3"
  },
  "language_info": {
   "codemirror_mode": {
    "name": "ipython",
    "version": 3
   },
   "file_extension": ".py",
   "mimetype": "text/x-python",
   "name": "python",
   "nbconvert_exporter": "python",
   "pygments_lexer": "ipython3",
   "version": "3.11.6"
  }
 },
 "nbformat": 4,
 "nbformat_minor": 2
}
