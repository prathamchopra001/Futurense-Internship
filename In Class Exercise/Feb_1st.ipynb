{
 "cells": [
  {
   "cell_type": "code",
   "execution_count": 2,
   "metadata": {},
   "outputs": [
    {
     "name": "stdout",
     "output_type": "stream",
     "text": [
      "78.5\n"
     ]
    }
   ],
   "source": [
    "#write a python class called Circle that takes a radius as an argument during initialization and has a method called area that returns the area of the circle\n",
    "class Circle:\n",
    "    def __init__(self, radius):\n",
    "        self.radius = radius\n",
    "    def area(self):\n",
    "        return 3.14*self.radius**2\n",
    "    \n",
    "rad = int(input(\"Enter the radius: \"))\n",
    "cir = Circle(rad)\n",
    "print(cir.area())"
   ]
  },
  {
   "cell_type": "code",
   "execution_count": 4,
   "metadata": {},
   "outputs": [
    {
     "name": "stdout",
     "output_type": "stream",
     "text": [
      "area =  25\n",
      "peremeter =  20\n"
     ]
    }
   ],
   "source": [
    "#write a python class called Rectangle that takes length and width as arguments during initialization and has two methods called area and peremeter that returns the area and peremeter of the rectangle respectively\n",
    "class Rectangle:\n",
    "    def __init__(self, length, width):\n",
    "        self.length = length\n",
    "        self.width = width\n",
    "    def area(self):\n",
    "        return self.length*self.width\n",
    "    def perimeter(self):\n",
    "        return 2*(self.length+self.width)   \n",
    "\n",
    "length = int(input(\"Enter the length: \"))\n",
    "width = int(input(\"Enter the width: \"))\n",
    "rec = Rectangle(length, width)\n",
    "print(\"area = \",rec.area())\n",
    "print(\"peremeter = \",rec.perimeter())"
   ]
  },
  {
   "cell_type": "code",
   "execution_count": 5,
   "metadata": {},
   "outputs": [
    {
     "name": "stdout",
     "output_type": "stream",
     "text": [
      "Pratham\n",
      "8\n"
     ]
    }
   ],
   "source": [
    "#write a pyhton class called Student that takes name and grade. This class should have get_name, set_name, get_grade, and set_grade methods. create an instance of the this class and interact with its attributes using defined methods\n",
    "class Student:\n",
    "    def __init__(self, name, grade):\n",
    "        self.name = name\n",
    "        self.grade = grade\n",
    "    def get_name(self):\n",
    "        return self.name\n",
    "    def set_name(self, name):\n",
    "        self.name = name\n",
    "    def get_grade(self):\n",
    "        return self.grade\n",
    "    def set_grade(self, grade):\n",
    "        self.grade = grade\n",
    "        \n",
    "name = input(\"Enter the name: \")\n",
    "grade = int(input()\"Enter your grades: \")\n",
    "stu = Student(name, grade)\n",
    "print(stu.get_name())\n",
    "print(stu.get_grade())"
   ]
  },
  {
   "cell_type": "code",
   "execution_count": 6,
   "metadata": {},
   "outputs": [
    {
     "name": "stdout",
     "output_type": "stream",
     "text": [
      "100000\n",
      "None\n",
      "100500\n",
      "None\n",
      "99500\n"
     ]
    }
   ],
   "source": [
    "#write a python class called BankAccount with attributes account_number, account_holder_name, and balance. This class should have methods to deposite, withdraw, and check_balance create an instance of the class deposite some \n",
    "class BankAccount:\n",
    "    def __init__(self, account_number, account_holder_name, balance):\n",
    "        self.account_number = account_number\n",
    "        self.account_holder_name = account_holder_name\n",
    "        self.balance = balance\n",
    "    def deposit(self, amount):\n",
    "        self.balance = self.balance + amount\n",
    "    def withdraw(self, amount):\n",
    "        if amount > self.balance:\n",
    "            print(\"Insufficient balance\")\n",
    "        else:\n",
    "            self.balance = self.balance - amount\n",
    "    def check_balance(self):\n",
    "        return self.balance\n",
    "    \n",
    "\n",
    "account_number = int(input(\"Enter account number: \"))\n",
    "account_holder_name = input(\"Enter account holder name: \")\n",
    "balance = int(input(\"Enter the balance: \"))\n",
    "\n",
    "acc = BankAccount(account_number, account_holder_name, balance)\n",
    "print(acc.check_balance())\n",
    "print(acc.deposit(500))\n",
    "print(acc.check_balance())\n",
    "print(acc.withdraw(1000))\n",
    "print(acc.check_balance())\n"
   ]
  },
  {
   "cell_type": "code",
   "execution_count": null,
   "metadata": {},
   "outputs": [],
   "source": []
  }
 ],
 "metadata": {
  "kernelspec": {
   "display_name": "Python 3",
   "language": "python",
   "name": "python3"
  },
  "language_info": {
   "codemirror_mode": {
    "name": "ipython",
    "version": 3
   },
   "file_extension": ".py",
   "mimetype": "text/x-python",
   "name": "python",
   "nbconvert_exporter": "python",
   "pygments_lexer": "ipython3",
   "version": "3.11.6"
  }
 },
 "nbformat": 4,
 "nbformat_minor": 2
}
